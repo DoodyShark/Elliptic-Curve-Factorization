{
 "cells": [
  {
   "cell_type": "code",
   "execution_count": 30,
   "metadata": {
    "collapsed": false
   },
   "outputs": [
   ],
   "source": [
    "# Checks if n is a power and returns whatever it is a power of\n",
    "def isPower(n):\n",
    "    if n == 0:\n",
    "        return [True, 0]\n",
    "    if n == 1:\n",
    "        return [True, 1]\n",
    "    if n < 4:\n",
    "        return [False, 0]\n",
    "    for i in range(int(math.log(n,2)), 1, -1):\n",
    "        if pow(n,1/i).is_integer():\n",
    "            return [True, pow(n,1/i)]\n",
    "    return [False, 0]"
   ]
  },
  {
   "cell_type": "code",
   "execution_count": 49,
   "metadata": {
    "collapsed": false
   },
   "outputs": [
   ],
   "source": [
    "# Performs fast addition to evaluating [k]P by multiplying P by 2 each time and\n",
    "# adding that result if the binary representation of k has a 1 in that spot\n",
    "def fast_addition(E, P, k, verbose):\n",
    "    out = E([0, 1, 0])\n",
    "    r = int(log(k, 2))\n",
    "    if k % 2 == 1:\n",
    "        out += P\n",
    "    for i in range(1, r + 1):\n",
    "        try:\n",
    "            P = P + P\n",
    "        except ZeroDivisionError as err:\n",
    "            errStr = \"Error: {0}\".format(err)\n",
    "            if verbose: print( ' '.join(errStr.split(' ')[:7]) )\n",
    "            return(int(errStr.split(' ')[3]))\n",
    "            break\n",
    "        except AttributeError as err:\n",
    "            if verbose: print(\"other error: KeyError\")\n",
    "        except AttributeError as err:\n",
    "            if verbose: print(\"other error: AttributeError\")\n",
    "        if int((k >> i) & 1) == 1:\n",
    "            try:\n",
    "                out += P\n",
    "            except ZeroDivisionError as err:\n",
    "                errStr = \"Error: {0}\".format(err)\n",
    "                if verbose: print( ' '.join(errStr.split(' ')[:7]) )\n",
    "                return(int(errStr.split(' ')[3]))\n",
    "                break\n",
    "            except AttributeError as err:\n",
    "                if verbose: print(\"other error: KeyError\")\n",
    "            except AttributeError as err:\n",
    "                if verbose: print(\"other error: AttributeError\")\n",
    "    return(out)"
   ]
  },
  {
   "cell_type": "code",
   "execution_count": 89,
   "metadata": {
    "collapsed": false
   },
   "outputs": [
   ],
   "source": [
    "COUNT_G_N = 10\n",
    "COUNT_TOTAL = 50\n",
    "COUNT_SAME_B = 10\n",
    "# Uses EC Factorization to find a single factor of n\n",
    "def find_factor_please(n, verbose):\n",
    "    if verbose: print(\"Factoring \" + str(n) + \"...\")\n",
    "    if (is_prime(int(n))):\n",
    "        if verbose: print(str(n) + \" is prime...\")\n",
    "        return n\n",
    "    B= int(math.e^( 1/2 * sqrt(log(n) * log(log(n)) ) )) + 1\n",
    "    if isPower(n)[0]:\n",
    "        return isPower(n)[1]\n",
    "    counter_g_n = 0\n",
    "    count_same_B = 0\n",
    "    count_total = 0\n",
    "    while count_total < COUNT_TOTAL:\n",
    "        count_same_B = 0\n",
    "        if verbose: print(\"###########################\")\n",
    "        M = 2\n",
    "        for i in range(3, B + 1):\n",
    "            M = lcm(M, i)\n",
    "        while count_same_B < COUNT_SAME_B and counter_g_n < COUNT_G_N :\n",
    "            if verbose: print(\".......................\")\n",
    "            if verbose: print(\"Count gcd = n: \" + str(counter_g_n))\n",
    "            a = randint(1, n - 1)\n",
    "            x = randint(1, n - 1)\n",
    "            y = randint(1, n - 1)\n",
    "            b = y^2 - x^3 - a*x\n",
    "            g = gcd(4*a^3 + 27*b^2, n)\n",
    "            if (1 < g < n):\n",
    "                return gcd(4*a^3 + 27*b^2, n)\n",
    "            elif g == n:\n",
    "                continue\n",
    "            E = EllipticCurve(IntegerModRing(n),[a,b]);\n",
    "            P = E([x, y ,1])\n",
    "            if verbose: print(E, \",  P=\",P)\n",
    "            Q = fast_addition(E, P, M, verbose)\n",
    "            if isinstance(Q, int):\n",
    "                if gcd(Q,n) != n:\n",
    "                    if verbose: print(\"Found GCD: \" + str(gcd(Q,n)))\n",
    "                    return(gcd(Q,n))\n",
    "                else:\n",
    "                    counter_g_n += 1\n",
    "            else:\n",
    "                if verbose: print(\"No errors in calculating [M]P\")\n",
    "            count_same_B += 1\n",
    "        if counter_g_n >= COUNT_G_N:\n",
    "            B = int(sqrt(B))\n",
    "            counter_g_n = 0\n",
    "        else:\n",
    "            B *= 2\n",
    "        count_total += 1\n",
    "    return 0"
   ]
  },
  {
   "cell_type": "code",
   "execution_count": 84,
   "metadata": {
    "collapsed": false
   },
   "outputs": [
   ],
   "source": [
    "# Finds all the factors of n by repeatedly calling the find_factor_please method\n",
    "# until all factors are prime\n",
    "def factor_please(n, verbose):\n",
    "    n_original = n\n",
    "    factors = []\n",
    "    while (int(n) & 1 == 0):\n",
    "        if verbose: print(\"2 is a factor...\")\n",
    "        factors.append(2)\n",
    "        n = n/2\n",
    "    while (n % 3 == 0):\n",
    "        if verbose: print(\"3 is a factor...\")\n",
    "        factors.append(3)\n",
    "        n = n/3\n",
    "    while (not is_prime(int(n)) and n != 1):\n",
    "        f = find_factor_please(n, verbose)\n",
    "        if f == 0:\n",
    "            return [0]\n",
    "        if not is_prime(f):\n",
    "            factors_f = factor_please(int(f), verbose)\n",
    "            for factor in factors_f:\n",
    "                factors.append(factor)\n",
    "        else:\n",
    "            factors.append(int(f))\n",
    "        n = int(n/f)\n",
    "    if n!= 1: factors.append(int(n))\n",
    "    return factors"
   ]
  },
  {
   "cell_type": "code",
   "execution_count": 85,
   "metadata": {
    "collapsed": false
   },
   "outputs": [
   ],
   "source": [
    "# Tidies up a list of jumbled factors (expected output of factor_please) and tidies them\n",
    "# up in increasing order to their respective powers\n",
    "def tidy_factors(n, factors, print_output):\n",
    "    factors.sort()\n",
    "    if factors == [0]:\n",
    "        return \"Error...\"\n",
    "    powered_factors = []\n",
    "    current_factor = factors[0]\n",
    "    factor_string = \"\"\n",
    "    count = 1\n",
    "    for i in range(1, len(factors)):\n",
    "        if factors[i] == current_factor:\n",
    "            count += 1\n",
    "        else:\n",
    "            powered_factors.append([current_factor, count])\n",
    "            if print_output:\n",
    "                factor_string += str(current_factor)\n",
    "                if count > 1:\n",
    "                    factor_string += '^' + str(count)\n",
    "                factor_string += ' * '\n",
    "            count = 1\n",
    "        current_factor = factors[i]\n",
    "    powered_factors.append([current_factor, count])\n",
    "    if print_output:\n",
    "        factor_string += str(current_factor)\n",
    "        if count > 1:\n",
    "            factor_string += '^' + str(count)\n",
    "    if print_output: print(str(n) + \" = \" + factor_string)\n",
    "    return powered_factors"
   ]
  },
  {
   "cell_type": "code",
   "execution_count": 87,
   "metadata": {
    "collapsed": false
   },
   "outputs": [
   ],
   "source": [
    "# Returns the complete list of tuples of factors and their respective powers\n",
    "# and prints that out if desired\n",
    "def tidy_factor_please(n, verbose, print_output):\n",
    "    factors = factor_please(n, verbose)\n",
    "    return tidy_factors(n, factors, print_output)"
   ]
  },
  {
   "cell_type": "code",
   "execution_count": 86,
   "metadata": {
    "collapsed": false
   },
   "outputs": [
    {
     "name": "stdout",
     "output_type": "stream",
     "text": [
      "n = 45687653345678754\n",
      "45687653345678754 = 2 * 3 * 73 * 414889 * 251415947\n",
      "45687653345678754 = 2 * 3 * 73 * 414889 * 251415947\n"
     ]
    }
   ],
   "source": [
    "n = 45687653345678754\n",
    "print(\"n = \" + str(n))\n",
    "factors_n_my_func = tidy_factor_please(n, False, True);\n",
    "print(str(n) + \" = \" + str(factor(n)))\n"
   ]
  },
  {
   "cell_type": "code",
   "execution_count": 59,
   "metadata": {
    "collapsed": false
   },
   "outputs": [
    {
     "name": "stdout",
     "output_type": "stream",
     "text": [
      "n = 53799319978834899310238247597331284893100625\n"
     ]
    },
    {
     "name": "stdout",
     "output_type": "stream",
     "text": [
      "53799319978834899310238247597331284893100625 = 5^4 * 57073^4 * 300119^4\n",
      "53799319978834899310238247597331284893100625 = 5^4 * 57073^4 * 300119^4\n"
     ]
    }
   ],
   "source": [
    "n = 85643458435^4\n",
    "print(\"n = \" + str(n))\n",
    "factors_n_my_func = tidy_factor_please(n, False, True);\n",
    "print(str(n) + \" = \" + str(factor(n)))"
   ]
  },
  {
   "cell_type": "code",
   "execution_count": 90,
   "metadata": {
    "collapsed": false
   },
   "outputs": [
    {
     "name": "stdout",
     "output_type": "stream",
     "text": [
      "n = 4567834563080237845679179458328743598\n",
      "2 is a factor...\n",
      "Factoring 2283917281540118922839589729164371799...\n",
      "###########################\n",
      ".......................\n",
      "Count gcd = n: 0\n",
      "Elliptic Curve defined by y^2 = x^3 + 1187303310643976120027979782240245225*x + 1038626680306660582720166512387670262 over Ring of integers modulo 2283917281540118922839589729164371799 "
     ]
    },
    {
     "name": "stdout",
     "output_type": "stream",
     "text": [
      ",  P= (1688657541001188658958175705528307030 : 1136716493987702719717539110379343916 : 1)\n"
     ]
    },
    {
     "name": "stdout",
     "output_type": "stream",
     "text": [
      "No errors in calculating [M]P\n",
      ".......................\n",
      "Count gcd = n: 0\n",
      "Elliptic Curve defined by y^2 = x^3 + 2190549657827936260054252672650056629*x + 2012785557481574501323627828618033727 over Ring of integers modulo 2283917281540118922839589729164371799 ,  P= (436650599622584133374483039310229685 : 1071167278046525183033088973404918963 : 1)\n"
     ]
    },
    {
     "name": "stdout",
     "output_type": "stream",
     "text": [
      "No errors in calculating [M]P\n",
      ".......................\n",
      "Count gcd = n: 0\n",
      "Elliptic Curve defined by y^2 = x^3 + 576920662352772229736881224862304513*x + 1284922268546650097118992918947480085 over Ring of integers modulo 2283917281540118922839589729164371799 ,  P= (1816316524656607928751230621013820203 : 802295194329208765403543037296637681 : 1)\n"
     ]
    },
    {
     "name": "stdout",
     "output_type": "stream",
     "text": [
      "No errors in calculating [M]P\n",
      ".......................\n",
      "Count gcd = n: 0\n",
      "Elliptic Curve defined by y^2 = x^3 + 367327100928418681305973900230169123*x + 785215509908490447516092228740525473 over Ring of integers modulo 2283917281540118922839589729164371799 ,  P= (1877677447946645826033789579497141385 : 1275057078242463972680131612640672421 : 1)\n"
     ]
    },
    {
     "name": "stdout",
     "output_type": "stream",
     "text": [
      "Error: Inverse of 861857941902767090670861338748615058 does not exist\n",
      "Found GCD: 184169457253\n",
      "4567834563080237845679179458328743598 = 2 * 184169457253 * 12401172895908696631356683\n",
      "4567834563080237845679179458328743598 = 2 * 184169457253 * 12401172895908696631356683\n"
     ]
    }
   ],
   "source": [
    "n = 4567834563080237845679179458328743598\n",
    "print(\"n = \" + str(n))\n",
    "factors_n_my_func = tidy_factor_please(n, True, True);\n",
    "print(str(n) + \" = \" + str(factor(n)))"
   ]
  },
  {
   "cell_type": "code",
   "execution_count": 76,
   "metadata": {
    "collapsed": false
   },
   "outputs": [
    {
     "name": "stdout",
     "output_type": "stream",
     "text": [
      "8159292649\n",
      "269\n",
      "689509529543\n",
      "n = 893515587635422634690654443566447971587\n"
     ]
    },
    {
     "name": "stdout",
     "output_type": "stream",
     "text": [
      "893515587635422634690654443566447971587 = 269^3 * 8159292649^2 * 689509529543\n",
      "893515587635422634690654443566447971587 = 269^3 * 8159292649^2 * 689509529543\n"
     ]
    }
   ],
   "source": [
    "p = random_prime(10^10, proof = True)\n",
    "print(p)\n",
    "q = random_prime(10^3, proof = True)\n",
    "print(q)\n",
    "r = random_prime(10^12, proof = True)\n",
    "print(r)\n",
    "n = p^2*q^3*r\n",
    "print(\"n = \" + str(n))\n",
    "factors_n_my_func = tidy_factor_please(n, False, True);\n",
    "print(str(n) + \" = \" + str(factor(n)))"
   ]
  },
  {
   "cell_type": "code",
   "execution_count": 83,
   "metadata": {
    "collapsed": false
   },
   "outputs": [
    {
     "name": "stdout",
     "output_type": "stream",
     "text": [
      "2310689267\n",
      "479\n",
      "295322068813\n",
      "9404448511\n",
      "n = 705305584414931337926327561939791615159\n"
     ]
    },
    {
     "name": "stdout",
     "output_type": "stream",
     "text": [
      "705305584414931337926327561939791615159 = 479^3 * 2310689267 * 9404448511 * 295322068813\n",
      "705305584414931337926327561939791615159 = 479^3 * 2310689267 * 9404448511 * 295322068813\n"
     ]
    }
   ],
   "source": [
    "p = random_prime(10^10, proof = True)\n",
    "print(p)\n",
    "q = random_prime(10^3, proof = True)\n",
    "print(q)\n",
    "r = random_prime(10^12, proof = True)\n",
    "print(r)\n",
    "s = random_prime(10^10, proof = True)\n",
    "print(s)\n",
    "n = p*q^3*r*s\n",
    "print(\"n = \" + str(n))\n",
    "factors_n_my_func = tidy_factor_please(n, False, True);\n",
    "print(str(n) + \" = \" + str(factor(n)))"
   ]
  },
  {
   "cell_type": "code",
   "execution_count": 3,
   "metadata": {
    "collapsed": false
   },
   "outputs": [
    {
     "name": "stdout",
     "output_type": "stream",
     "text": [
      "30\n"
     ]
    }
   ],
   "source": [
    "a = randint(1, 29 - 1)\n",
    "x = randint(1, 29 - 1)\n",
    "y = randint(1, 29 - 1)\n",
    "b = y^2 - x^3 - a*x\n",
    "E = EllipticCurve(GF(29),[a,b]);\n",
    "P = E([x, y ,1])\n",
    "print(E.order())"
   ]
  },
  {
   "cell_type": "code",
   "execution_count": 0,
   "metadata": {
    "collapsed": false
   },
   "outputs": [
   ],
   "source": [
   ]
  }
 ],
 "metadata": {
  "kernelspec": {
   "display_name": "SageMath 9.7",
   "language": "sagemath",
   "metadata": {
    "cocalc": {
     "description": "Open-source mathematical software system",
     "priority": 10,
     "url": "https://www.sagemath.org/"
    }
   },
   "name": "sage-9.7",
   "resource_dir": "/ext/jupyter/kernels/sage-9.7"
  },
  "language_info": {
   "codemirror_mode": {
    "name": "ipython",
    "version": 3
   },
   "file_extension": ".py",
   "mimetype": "text/x-python",
   "name": "python",
   "nbconvert_exporter": "python",
   "pygments_lexer": "ipython3",
   "version": "3.10.5"
  }
 },
 "nbformat": 4,
 "nbformat_minor": 4
}